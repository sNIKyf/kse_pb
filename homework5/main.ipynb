{
 "cells": [
  {
   "cell_type": "code",
   "execution_count": 1,
   "id": "78cbd2b8",
   "metadata": {},
   "outputs": [],
   "source": [
    "import requests\n",
    "import pandas as pd"
   ]
  },
  {
   "cell_type": "code",
   "execution_count": 2,
   "id": "df4cfeaa",
   "metadata": {},
   "outputs": [
    {
     "data": {
      "text/html": [
       "<div>\n",
       "<style scoped>\n",
       "    .dataframe tbody tr th:only-of-type {\n",
       "        vertical-align: middle;\n",
       "    }\n",
       "\n",
       "    .dataframe tbody tr th {\n",
       "        vertical-align: top;\n",
       "    }\n",
       "\n",
       "    .dataframe thead th {\n",
       "        text-align: right;\n",
       "    }\n",
       "</style>\n",
       "<table border=\"1\" class=\"dataframe\">\n",
       "  <thead>\n",
       "    <tr style=\"text-align: right;\">\n",
       "      <th></th>\n",
       "      <th>time</th>\n",
       "      <th>temperature_2m</th>\n",
       "      <th>wind_speed_10m</th>\n",
       "    </tr>\n",
       "  </thead>\n",
       "  <tbody>\n",
       "    <tr>\n",
       "      <th>0</th>\n",
       "      <td>2025-06-21T00:00</td>\n",
       "      <td>12.2</td>\n",
       "      <td>12.9</td>\n",
       "    </tr>\n",
       "    <tr>\n",
       "      <th>1</th>\n",
       "      <td>2025-06-21T01:00</td>\n",
       "      <td>12.0</td>\n",
       "      <td>11.6</td>\n",
       "    </tr>\n",
       "    <tr>\n",
       "      <th>2</th>\n",
       "      <td>2025-06-21T02:00</td>\n",
       "      <td>12.1</td>\n",
       "      <td>10.8</td>\n",
       "    </tr>\n",
       "    <tr>\n",
       "      <th>3</th>\n",
       "      <td>2025-06-21T03:00</td>\n",
       "      <td>12.0</td>\n",
       "      <td>10.8</td>\n",
       "    </tr>\n",
       "    <tr>\n",
       "      <th>4</th>\n",
       "      <td>2025-06-21T04:00</td>\n",
       "      <td>12.0</td>\n",
       "      <td>10.6</td>\n",
       "    </tr>\n",
       "    <tr>\n",
       "      <th>...</th>\n",
       "      <td>...</td>\n",
       "      <td>...</td>\n",
       "      <td>...</td>\n",
       "    </tr>\n",
       "    <tr>\n",
       "      <th>163</th>\n",
       "      <td>2025-06-27T19:00</td>\n",
       "      <td>22.1</td>\n",
       "      <td>8.9</td>\n",
       "    </tr>\n",
       "    <tr>\n",
       "      <th>164</th>\n",
       "      <td>2025-06-27T20:00</td>\n",
       "      <td>20.4</td>\n",
       "      <td>6.4</td>\n",
       "    </tr>\n",
       "    <tr>\n",
       "      <th>165</th>\n",
       "      <td>2025-06-27T21:00</td>\n",
       "      <td>19.3</td>\n",
       "      <td>4.3</td>\n",
       "    </tr>\n",
       "    <tr>\n",
       "      <th>166</th>\n",
       "      <td>2025-06-27T22:00</td>\n",
       "      <td>18.5</td>\n",
       "      <td>3.1</td>\n",
       "    </tr>\n",
       "    <tr>\n",
       "      <th>167</th>\n",
       "      <td>2025-06-27T23:00</td>\n",
       "      <td>17.7</td>\n",
       "      <td>3.0</td>\n",
       "    </tr>\n",
       "  </tbody>\n",
       "</table>\n",
       "<p>168 rows × 3 columns</p>\n",
       "</div>"
      ],
      "text/plain": [
       "                 time  temperature_2m  wind_speed_10m\n",
       "0    2025-06-21T00:00            12.2            12.9\n",
       "1    2025-06-21T01:00            12.0            11.6\n",
       "2    2025-06-21T02:00            12.1            10.8\n",
       "3    2025-06-21T03:00            12.0            10.8\n",
       "4    2025-06-21T04:00            12.0            10.6\n",
       "..                ...             ...             ...\n",
       "163  2025-06-27T19:00            22.1             8.9\n",
       "164  2025-06-27T20:00            20.4             6.4\n",
       "165  2025-06-27T21:00            19.3             4.3\n",
       "166  2025-06-27T22:00            18.5             3.1\n",
       "167  2025-06-27T23:00            17.7             3.0\n",
       "\n",
       "[168 rows x 3 columns]"
      ]
     },
     "execution_count": 2,
     "metadata": {},
     "output_type": "execute_result"
    }
   ],
   "source": [
    "url = \"https://api.open-meteo.com/v1/forecast\"\n",
    "params = {\n",
    "\t\"latitude\": 50.4547,\n",
    "\t\"longitude\": 30.5238,\n",
    "\t\"hourly\": [\"temperature_2m\", \"wind_speed_10m\"],\n",
    "\t\"timezone\": \"Europe/Berlin\"\n",
    "}\n",
    "response = requests.get(url, params=params)\n",
    "if response.status_code == 200:\n",
    "    data = response.json()\n",
    "    hourly_dataframe = pd.DataFrame(data['hourly'])\n",
    "hourly_dataframe"
   ]
  },
  {
   "cell_type": "code",
   "execution_count": null,
   "id": "54f4387a",
   "metadata": {},
   "outputs": [
    {
     "data": {
      "text/plain": [
       "0       True\n",
       "1       True\n",
       "2       True\n",
       "3       True\n",
       "4       True\n",
       "       ...  \n",
       "163    False\n",
       "164    False\n",
       "165    False\n",
       "166    False\n",
       "167    False\n",
       "Name: wind_speed_10m, Length: 168, dtype: bool"
      ]
     },
     "execution_count": 4,
     "metadata": {},
     "output_type": "execute_result"
    }
   ],
   "source": [
    "df_3days=hourly_dataframe.iloc[0:72]\n",
    "min_temperature_3days=df_3days[\"temperature_2m\"].min()\n",
    "max_temperature_3days=df_3days[\"temperature_2m\"].max()\n",
    "mean_temperature_3days=df_3days[\"temperature_2m\"].mean()\n",
    "wind_spead_greater_mean=hourly_dataframe[\"wind_speed_10m\"] > hourly_dataframe[\"wind_speed_10m\"].mean()\n",
    "hours_wind_spead_greater_mean=wind_spead_greater_mean.value_counts().get(True)\n"
   ]
  }
 ],
 "metadata": {
  "kernelspec": {
   "display_name": "base",
   "language": "python",
   "name": "python3"
  },
  "language_info": {
   "codemirror_mode": {
    "name": "ipython",
    "version": 3
   },
   "file_extension": ".py",
   "mimetype": "text/x-python",
   "name": "python",
   "nbconvert_exporter": "python",
   "pygments_lexer": "ipython3",
   "version": "3.11.7"
  }
 },
 "nbformat": 4,
 "nbformat_minor": 5
}
