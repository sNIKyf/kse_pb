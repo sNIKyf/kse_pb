{
 "cells": [
  {
   "cell_type": "code",
   "execution_count": 3,
   "id": "78cbd2b8",
   "metadata": {},
   "outputs": [],
   "source": [
    "import openmeteo_requests\n",
    "import pandas as pd\n",
    "import requests_cache\n",
    "from retry_requests import retry"
   ]
  },
  {
   "cell_type": "code",
   "execution_count": 8,
   "id": "0b3df960",
   "metadata": {},
   "outputs": [],
   "source": [
    "cache_session = requests_cache.CachedSession('.cache', expire_after = 3600)\n",
    "retry_session = retry(cache_session, retries = 5, backoff_factor = 0.2)\n",
    "openmeteo = openmeteo_requests.Client(session = retry_session)"
   ]
  },
  {
   "cell_type": "code",
   "execution_count": 9,
   "id": "df4cfeaa",
   "metadata": {},
   "outputs": [],
   "source": [
    "url = \"https://api.open-meteo.com/v1/forecast\"\n",
    "params = {\n",
    "\t\"latitude\": 50.4547,\n",
    "\t\"longitude\": 30.5238,\n",
    "\t\"hourly\": [\"temperature_2m\", \"wind_speed_10m\"],\n",
    "\t\"timezone\": \"Europe/Berlin\"\n",
    "}\n",
    "responses = openmeteo.weather_api(url, params=params)"
   ]
  },
  {
   "cell_type": "code",
   "execution_count": 10,
   "id": "b89660cd",
   "metadata": {},
   "outputs": [
    {
     "name": "stdout",
     "output_type": "stream",
     "text": [
      "Coordinates 50.4375°N 30.5°E\n",
      "Elevation 188.0 m asl\n",
      "Timezone b'Europe/Berlin'b'GMT+2'\n",
      "Timezone difference to GMT+0 7200 s\n"
     ]
    }
   ],
   "source": [
    "response = responses[0]\n",
    "print(f\"Coordinates {response.Latitude()}°N {response.Longitude()}°E\")\n",
    "print(f\"Elevation {response.Elevation()} m asl\")\n",
    "print(f\"Timezone {response.Timezone()}{response.TimezoneAbbreviation()}\")\n",
    "print(f\"Timezone difference to GMT+0 {response.UtcOffsetSeconds()} s\")"
   ]
  },
  {
   "cell_type": "code",
   "execution_count": 11,
   "id": "c13deae3",
   "metadata": {},
   "outputs": [
    {
     "name": "stdout",
     "output_type": "stream",
     "text": [
      "                         date  temperature_2m  wind_speed_10m\n",
      "0   2025-06-16 22:00:00+00:00       19.359501        3.415260\n",
      "1   2025-06-16 23:00:00+00:00       18.759501        3.671294\n",
      "2   2025-06-17 00:00:00+00:00       17.859501        3.600000\n",
      "3   2025-06-17 01:00:00+00:00       17.109501        3.976330\n",
      "4   2025-06-17 02:00:00+00:00       16.659500        3.758510\n",
      "..                        ...             ...             ...\n",
      "163 2025-06-23 17:00:00+00:00       24.521000        0.360000\n",
      "164 2025-06-23 18:00:00+00:00       23.320999        2.811690\n",
      "165 2025-06-23 19:00:00+00:00       21.771000        3.826853\n",
      "166 2025-06-23 20:00:00+00:00       20.021000        4.510787\n",
      "167 2025-06-23 21:00:00+00:00       18.620998        4.452954\n",
      "\n",
      "[168 rows x 3 columns]\n"
     ]
    }
   ],
   "source": [
    "hourly = response.Hourly()\n",
    "hourly_temperature_2m = hourly.Variables(0).ValuesAsNumpy()\n",
    "hourly_wind_speed_10m = hourly.Variables(1).ValuesAsNumpy()\n",
    "\n",
    "hourly_data = {\"date\": pd.date_range(\n",
    "\tstart = pd.to_datetime(hourly.Time(), unit = \"s\", utc = True),\n",
    "\tend = pd.to_datetime(hourly.TimeEnd(), unit = \"s\", utc = True),\n",
    "\tfreq = pd.Timedelta(seconds = hourly.Interval()),\n",
    "\tinclusive = \"left\"\n",
    ")}\n",
    "\n",
    "hourly_data[\"temperature_2m\"] = hourly_temperature_2m\n",
    "hourly_data[\"wind_speed_10m\"] = hourly_wind_speed_10m\n",
    "\n",
    "hourly_dataframe = pd.DataFrame(data = hourly_data)\n",
    "print(hourly_dataframe)"
   ]
  },
  {
   "cell_type": "code",
   "execution_count": null,
   "id": "54f4387a",
   "metadata": {},
   "outputs": [
    {
     "data": {
      "text/plain": [
       "74"
      ]
     },
     "execution_count": 38,
     "metadata": {},
     "output_type": "execute_result"
    }
   ],
   "source": [
    "df_3days=hourly_dataframe.iloc[0:72]\n",
    "min_temperature_3days=df_3days[\"temperature_2m\"].min()\n",
    "max_temperature_3days=df_3days[\"temperature_2m\"].max()\n",
    "mean_temperature_3days=df_3days[\"temperature_2m\"].mean()\n",
    "wind_spead_greater_mean=hourly_dataframe[\"wind_speed_10m\"] > hourly_dataframe[\"wind_speed_10m\"].mean()\n",
    "hours_wind_spead_greater_mean=wind_spead_greater_mean.value_counts().get(True)\n",
    "\n",
    "\n"
   ]
  }
 ],
 "metadata": {
  "kernelspec": {
   "display_name": "base",
   "language": "python",
   "name": "python3"
  },
  "language_info": {
   "codemirror_mode": {
    "name": "ipython",
    "version": 3
   },
   "file_extension": ".py",
   "mimetype": "text/x-python",
   "name": "python",
   "nbconvert_exporter": "python",
   "pygments_lexer": "ipython3",
   "version": "3.11.7"
  }
 },
 "nbformat": 4,
 "nbformat_minor": 5
}
